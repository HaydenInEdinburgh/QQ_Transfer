{
 "cells": [
  {
   "cell_type": "markdown",
   "metadata": {},
   "source": [
    "### Basic Setting"
   ]
  },
  {
   "cell_type": "markdown",
   "metadata": {},
   "source": [
    "#### Packages"
   ]
  },
  {
   "cell_type": "code",
   "execution_count": 2,
   "metadata": {
    "ExecuteTime": {
     "end_time": "2022-03-23T15:22:37.147251Z",
     "start_time": "2022-03-23T15:22:37.139242Z"
    },
    "scrolled": true
   },
   "outputs": [
    {
     "data": {
      "text/plain": [
       "'en_US.UTF8'"
      ]
     },
     "execution_count": 2,
     "metadata": {},
     "output_type": "execute_result"
    }
   ],
   "source": [
    "import pandas as pd \n",
    "import csv\n",
    "from datetime import datetime\n",
    "import locale\n",
    "locale.setlocale(locale.LC_ALL, 'en_US.UTF8')"
   ]
  },
  {
   "cell_type": "markdown",
   "metadata": {},
   "source": [
    "#### Paths"
   ]
  },
  {
   "cell_type": "code",
   "execution_count": 37,
   "metadata": {
    "ExecuteTime": {
     "end_time": "2022-03-23T16:33:20.462098Z",
     "start_time": "2022-03-23T16:33:20.458098Z"
    }
   },
   "outputs": [],
   "source": [
    "ada_lead_path = 'data/raw/ada_lead_data.csv'\n",
    "qq_export_path = 'data/raw/QQ_1028_MGA.csv'\n",
    "ws_path = 'data/raw/Waterstone_Book.csv'\n",
    "ag_path = 'data/raw/A_Gange_Book.csv'"
   ]
  },
  {
   "cell_type": "markdown",
   "metadata": {},
   "source": [
    "### Ada Data Processing"
   ]
  },
  {
   "cell_type": "markdown",
   "metadata": {},
   "source": [
    "There is a dataset from Adagateaway, we have to extract all the customer's information and make sure the final accounts to be transfered is not in Adagateaway.\n",
    "\n",
    "Ada_df_header_names: 22 cols\n",
    "['user_id','state','lead_id','name','email','phone','policy_number','premium','source','sold_date','carrier','co_broke','raw_data','lead_timestamp','product_type','Referral New Business','re','company','options','submitter','sub','locker']"
   ]
  },
  {
   "cell_type": "markdown",
   "metadata": {},
   "source": [
    "#### Reading and Preprocessing"
   ]
  },
  {
   "cell_type": "markdown",
   "metadata": {},
   "source": [
    "##### Adagateway"
   ]
  },
  {
   "cell_type": "code",
   "execution_count": 13,
   "metadata": {
    "ExecuteTime": {
     "end_time": "2022-03-23T15:31:00.233585Z",
     "start_time": "2022-03-23T15:31:00.023587Z"
    },
    "scrolled": true
   },
   "outputs": [],
   "source": [
    "# read data\n",
    "df_ada = pd.read_csv(ada_lead_path, index_col=0)\n",
    "# drop records without email\n",
    "df_ada = df_ada.dropna(subset=['email'])\n",
    "customers_ada_set = set()\n",
    "for index, row in df_ada.iterrows():\n",
    "    full_name = row['name'] if isinstance(row['name'], str) else '' \n",
    "    email = row['email'].lower() if isinstance(row['email'], str) else ''\n",
    "    policy_num = row['policy_number'].upper() if isinstance(row['policy_number'], str) else ''\n",
    "    first_name, last_name = full_name.split(' ')[0].capitalize(), full_name.split(' ')[-1].capitalize()\n",
    "    customers_ada_set.add((first_name, last_name, email, policy_num))"
   ]
  },
  {
   "cell_type": "code",
   "execution_count": 16,
   "metadata": {
    "ExecuteTime": {
     "end_time": "2022-03-23T15:32:07.188821Z",
     "start_time": "2022-03-23T15:32:07.181821Z"
    }
   },
   "outputs": [
    {
     "name": "stdout",
     "output_type": "stream",
     "text": [
      "There are 1158 pieces of customer data from ada\n"
     ]
    }
   ],
   "source": [
    "print('There are {} pieces of customer data from ada'.format(len(customers_ada_set)))"
   ]
  },
  {
   "cell_type": "markdown",
   "metadata": {},
   "source": [
    "##### WaterStone and A Gange"
   ]
  },
  {
   "cell_type": "code",
   "execution_count": 17,
   "metadata": {
    "ExecuteTime": {
     "end_time": "2022-03-23T15:34:44.856639Z",
     "start_time": "2022-03-23T15:34:44.746636Z"
    },
    "scrolled": true
   },
   "outputs": [],
   "source": [
    "df_ag = pd.read_csv(ag_path)#.dropna(subset=['Policy Number'])\n",
    "df_ws = pd.read_csv(ws_path)#.dropna(subset=['Policy Number'])"
   ]
  },
  {
   "cell_type": "code",
   "execution_count": 18,
   "metadata": {
    "ExecuteTime": {
     "end_time": "2022-03-23T15:35:35.658298Z",
     "start_time": "2022-03-23T15:35:35.652297Z"
    },
    "scrolled": true
   },
   "outputs": [
    {
     "name": "stdout",
     "output_type": "stream",
     "text": [
      "There are 6345 pieces of agenda data\n",
      "There are 29387 pieces of waterstone data\n"
     ]
    }
   ],
   "source": [
    "print('There are {} pieces of agenda data'.format(len(df_ag)))\n",
    "print('There are {} pieces of waterstone data'.format(len(df_ws)))"
   ]
  },
  {
   "cell_type": "markdown",
   "metadata": {},
   "source": [
    "#### Data Filtering\n",
    "Filter the data by features to ensure that all customers are not in the ada data."
   ]
  },
  {
   "cell_type": "code",
   "execution_count": 19,
   "metadata": {
    "ExecuteTime": {
     "end_time": "2022-03-23T15:39:03.908101Z",
     "start_time": "2022-03-23T15:39:03.888099Z"
    }
   },
   "outputs": [],
   "source": [
    "overlap_set = set()\n",
    "df_overlap = pd.DataFrame(columns= df_ag.columns)\n",
    "df_null = pd.DataFrame(columns= df_ag.columns)"
   ]
  },
  {
   "cell_type": "code",
   "execution_count": 20,
   "metadata": {
    "ExecuteTime": {
     "end_time": "2022-03-23T15:39:06.658600Z",
     "start_time": "2022-03-23T15:39:06.640599Z"
    },
    "pycharm": {
     "name": "#%%\n"
    }
   },
   "outputs": [],
   "source": [
    "def extract_cust(df, overlap, ada_set):\n",
    "    #df = df.dropna(subset=['Customer Email'])\n",
    "    df_null = pd.DataFrame(columns= df.columns)\n",
    "    df_overlap = pd.DataFrame(columns= df.columns)\n",
    "    df_valid = pd.DataFrame(columns= df.columns)\n",
    "    cust = set()\n",
    "    for index, row in df.iterrows():\n",
    "        first_name = row['Customer First Name'].capitalize() if isinstance(row['Customer First Name'], str) else ''\n",
    "        last_name = row['Customer Last Name'].capitalize() if isinstance(row['Customer Last Name'], str) else ''\n",
    "        email =  row['Customer Email'].lower() if isinstance(row['Customer Email'], str) else ''\n",
    "        policy_num = row['Policy Number'].upper() if isinstance(row['Policy Number'], str) else ''\n",
    "        \n",
    "        if not policy_num or not first_name or not last_name:\n",
    "            df_null = df_null.append(df.loc[index],  ignore_index = True)\n",
    "            continue\n",
    "        if (first_name, last_name, email, policy_num) in ada_set:\n",
    "            overlap.add((first_name, last_name, email, policy_num))\n",
    "            df_overlap = df_overlap.append(df.loc[index],  ignore_index = True)\n",
    "        else:\n",
    "            customer_info = (first_name, last_name, email, policy_num)\n",
    "            if customer_info in cust:\n",
    "                continue\n",
    "            cust.add(customer_info)\n",
    "            df_valid = df_valid.append(df.loc[index],  ignore_index = True)\n",
    "    return cust, df_null, df_overlap, df_valid\n",
    "\n",
    "def zip_fomatter(zipcode):\n",
    "    if not zipcode:\n",
    "        return ''\n",
    "    main_part = zipcode.split('-')[0]\n",
    "    if len(main_part) == 4:\n",
    "        return '0'+zipcode\n",
    "    return zipcode"
   ]
  },
  {
   "cell_type": "code",
   "execution_count": 21,
   "metadata": {
    "ExecuteTime": {
     "end_time": "2022-03-23T15:39:45.441307Z",
     "start_time": "2022-03-23T15:39:10.182080Z"
    },
    "scrolled": false
   },
   "outputs": [],
   "source": [
    "customers_ws_set, df_ws_null, df_ws_overlap, df_ws_valid = extract_cust(df_ws, overlap_set, customers_ada_set)\n",
    "customers_ag_set, df_ag_null, df_ag_overlap, df_ag_valid = extract_cust(df_ag, overlap_set, customers_ada_set)"
   ]
  },
  {
   "cell_type": "markdown",
   "metadata": {},
   "source": [
    "### QQ Data Processing"
   ]
  },
  {
   "cell_type": "markdown",
   "metadata": {},
   "source": [
    "#### Reading and Preprocessing"
   ]
  },
  {
   "cell_type": "code",
   "execution_count": 38,
   "metadata": {
    "ExecuteTime": {
     "end_time": "2022-03-23T16:34:09.492625Z",
     "start_time": "2022-03-23T16:34:09.372589Z"
    }
   },
   "outputs": [
    {
     "name": "stdout",
     "output_type": "stream",
     "text": [
      "There are 36939 pieces of data from QQ\n"
     ]
    }
   ],
   "source": [
    "df_qq = pd.read_csv(qq_export_path)\n",
    "print('There are {} pieces of data from QQ'.format(len(df_qq)))"
   ]
  },
  {
   "cell_type": "markdown",
   "metadata": {},
   "source": [
    "#### Data Filtering"
   ]
  },
  {
   "cell_type": "code",
   "execution_count": 39,
   "metadata": {
    "ExecuteTime": {
     "end_time": "2022-03-23T16:35:08.043269Z",
     "start_time": "2022-03-23T16:34:10.852032Z"
    },
    "scrolled": true
   },
   "outputs": [],
   "source": [
    "customers_qq_set, df_qq_null, df_qq_overlap, df_qq_valid = extract_cust(df_qq, overlap_set, customers_ada_set)"
   ]
  },
  {
   "cell_type": "code",
   "execution_count": 40,
   "metadata": {
    "ExecuteTime": {
     "end_time": "2022-03-23T16:35:08.074193Z",
     "start_time": "2022-03-23T16:35:08.045178Z"
    },
    "scrolled": false
   },
   "outputs": [
    {
     "data": {
      "text/html": [
       "<div>\n",
       "<style scoped>\n",
       "    .dataframe tbody tr th:only-of-type {\n",
       "        vertical-align: middle;\n",
       "    }\n",
       "\n",
       "    .dataframe tbody tr th {\n",
       "        vertical-align: top;\n",
       "    }\n",
       "\n",
       "    .dataframe thead th {\n",
       "        text-align: right;\n",
       "    }\n",
       "</style>\n",
       "<table border=\"1\" class=\"dataframe\">\n",
       "  <thead>\n",
       "    <tr style=\"text-align: right;\">\n",
       "      <th></th>\n",
       "      <th>Customer First Name</th>\n",
       "      <th>Customer Last Name</th>\n",
       "      <th>Customer Street Address</th>\n",
       "      <th>Customer State/Province</th>\n",
       "      <th>Customer Zip Code</th>\n",
       "      <th>Customer Email</th>\n",
       "      <th>Customer Phone Number</th>\n",
       "      <th>Customer Number</th>\n",
       "      <th>Policy Number</th>\n",
       "      <th>Policy Premium</th>\n",
       "      <th>Policy Status</th>\n",
       "      <th>CSR On Customer</th>\n",
       "      <th>Agent On Policy</th>\n",
       "      <th>CSR On Policy</th>\n",
       "      <th>Producer</th>\n",
       "      <th>Effective Date</th>\n",
       "      <th>MGA/Broker</th>\n",
       "    </tr>\n",
       "  </thead>\n",
       "  <tbody>\n",
       "    <tr>\n",
       "      <th>0</th>\n",
       "      <td>Tony</td>\n",
       "      <td>Gross</td>\n",
       "      <td>P.O. Box 187</td>\n",
       "      <td>NJ</td>\n",
       "      <td>07849</td>\n",
       "      <td>rmgross@verizon.net</td>\n",
       "      <td>(973) 584-6311</td>\n",
       "      <td>WSDC-03825</td>\n",
       "      <td>KKO0000008839000</td>\n",
       "      <td>$1,399.00</td>\n",
       "      <td>Cancelled</td>\n",
       "      <td>Linda Sabino</td>\n",
       "      <td>Linda Sabino</td>\n",
       "      <td>Linda Sabino</td>\n",
       "      <td>Linda Sabino</td>\n",
       "      <td>6/26/2022</td>\n",
       "      <td>K&amp;K Insurance Group, Inc.</td>\n",
       "    </tr>\n",
       "    <tr>\n",
       "      <th>1</th>\n",
       "      <td>Tony</td>\n",
       "      <td>Gross</td>\n",
       "      <td>P.O. Box 187</td>\n",
       "      <td>NJ</td>\n",
       "      <td>07849</td>\n",
       "      <td>tonygross1932@gmail.com</td>\n",
       "      <td>(973) 584-6311</td>\n",
       "      <td>WSDC-03825</td>\n",
       "      <td>KKO0000008839000</td>\n",
       "      <td>$1,399.00</td>\n",
       "      <td>Cancelled</td>\n",
       "      <td>Linda Sabino</td>\n",
       "      <td>Linda Sabino</td>\n",
       "      <td>Linda Sabino</td>\n",
       "      <td>Linda Sabino</td>\n",
       "      <td>6/26/2022</td>\n",
       "      <td>K&amp;K Insurance Group, Inc.</td>\n",
       "    </tr>\n",
       "    <tr>\n",
       "      <th>2</th>\n",
       "      <td>MICHAEL</td>\n",
       "      <td>METZERMACHER</td>\n",
       "      <td>29 BOSWELL AVE</td>\n",
       "      <td>CT</td>\n",
       "      <td>06360-7901</td>\n",
       "      <td>NaN</td>\n",
       "      <td>(860) 912-4182</td>\n",
       "      <td>NaN</td>\n",
       "      <td>K3788820</td>\n",
       "      <td>$1,064.20</td>\n",
       "      <td>Active</td>\n",
       "      <td>Aaron Culp</td>\n",
       "      <td>Aaron Culp</td>\n",
       "      <td>Aaron Culp</td>\n",
       "      <td>NaN</td>\n",
       "      <td>12/30/2021</td>\n",
       "      <td>NaN</td>\n",
       "    </tr>\n",
       "    <tr>\n",
       "      <th>3</th>\n",
       "      <td>MARGO</td>\n",
       "      <td>GRISELL</td>\n",
       "      <td>54 HOP BROOK RD</td>\n",
       "      <td>CT</td>\n",
       "      <td>06804</td>\n",
       "      <td>NaN</td>\n",
       "      <td>(203) 885-2228</td>\n",
       "      <td>WSDC-04433</td>\n",
       "      <td>6081778336331</td>\n",
       "      <td>$1,340.00</td>\n",
       "      <td>Active</td>\n",
       "      <td>Richard McLaughlin</td>\n",
       "      <td>Franc Kalanderi</td>\n",
       "      <td>Franc Kalanderi</td>\n",
       "      <td>NaN</td>\n",
       "      <td>12/30/2021</td>\n",
       "      <td>NaN</td>\n",
       "    </tr>\n",
       "    <tr>\n",
       "      <th>4</th>\n",
       "      <td>Ashley</td>\n",
       "      <td>Zapotosky</td>\n",
       "      <td>122 Maple Ave.</td>\n",
       "      <td>NJ</td>\n",
       "      <td>07057</td>\n",
       "      <td>ashzap12@gmail.com</td>\n",
       "      <td>(201) 446-1709</td>\n",
       "      <td>WSDC-03663</td>\n",
       "      <td>6BRPG0000007214500</td>\n",
       "      <td>$0.00</td>\n",
       "      <td>Pending</td>\n",
       "      <td>NaN</td>\n",
       "      <td>Linda Sabino</td>\n",
       "      <td>Linda Sabino</td>\n",
       "      <td>Linda Sabino</td>\n",
       "      <td>12/27/2021</td>\n",
       "      <td>K&amp;K Insurance Group, Inc.</td>\n",
       "    </tr>\n",
       "  </tbody>\n",
       "</table>\n",
       "</div>"
      ],
      "text/plain": [
       "  Customer First Name Customer Last Name Customer Street Address  \\\n",
       "0                Tony              Gross            P.O. Box 187   \n",
       "1                Tony              Gross            P.O. Box 187   \n",
       "2             MICHAEL       METZERMACHER          29 BOSWELL AVE   \n",
       "3               MARGO            GRISELL         54 HOP BROOK RD   \n",
       "4              Ashley          Zapotosky          122 Maple Ave.   \n",
       "\n",
       "  Customer State/Province Customer Zip Code           Customer Email  \\\n",
       "0                      NJ             07849      rmgross@verizon.net   \n",
       "1                      NJ             07849  tonygross1932@gmail.com   \n",
       "2                      CT        06360-7901                      NaN   \n",
       "3                      CT             06804                      NaN   \n",
       "4                      NJ             07057       ashzap12@gmail.com   \n",
       "\n",
       "  Customer Phone Number Customer Number       Policy Number Policy Premium  \\\n",
       "0        (973) 584-6311      WSDC-03825    KKO0000008839000      $1,399.00   \n",
       "1        (973) 584-6311      WSDC-03825    KKO0000008839000      $1,399.00   \n",
       "2        (860) 912-4182             NaN            K3788820      $1,064.20   \n",
       "3        (203) 885-2228      WSDC-04433       6081778336331      $1,340.00   \n",
       "4        (201) 446-1709      WSDC-03663  6BRPG0000007214500          $0.00   \n",
       "\n",
       "  Policy Status     CSR On Customer  Agent On Policy    CSR On Policy  \\\n",
       "0     Cancelled        Linda Sabino     Linda Sabino     Linda Sabino   \n",
       "1     Cancelled        Linda Sabino     Linda Sabino     Linda Sabino   \n",
       "2        Active          Aaron Culp       Aaron Culp       Aaron Culp   \n",
       "3        Active  Richard McLaughlin  Franc Kalanderi  Franc Kalanderi   \n",
       "4       Pending                 NaN     Linda Sabino     Linda Sabino   \n",
       "\n",
       "       Producer Effective Date                 MGA/Broker  \n",
       "0  Linda Sabino      6/26/2022  K&K Insurance Group, Inc.  \n",
       "1  Linda Sabino      6/26/2022  K&K Insurance Group, Inc.  \n",
       "2           NaN     12/30/2021                        NaN  \n",
       "3           NaN     12/30/2021                        NaN  \n",
       "4  Linda Sabino     12/27/2021  K&K Insurance Group, Inc.  "
      ]
     },
     "execution_count": 40,
     "metadata": {},
     "output_type": "execute_result"
    }
   ],
   "source": [
    "df_qq_valid.head()"
   ]
  },
  {
   "cell_type": "markdown",
   "metadata": {
    "ExecuteTime": {
     "end_time": "2022-02-08T19:10:28.679002Z",
     "start_time": "2022-02-08T19:10:28.665999Z"
    }
   },
   "source": [
    "This part is to filter out the qq records with agent or CSR or producer who is in the not_wts_agents（given by Xavier）"
   ]
  },
  {
   "cell_type": "code",
   "execution_count": 46,
   "metadata": {
    "ExecuteTime": {
     "end_time": "2022-03-23T16:35:16.549595Z",
     "start_time": "2022-03-23T16:35:16.540534Z"
    }
   },
   "outputs": [],
   "source": [
    "not_wts_agents = {\"Albert Meng\",\"Aaron Culp\",\"Michael Giambrone\",\\\n",
    "                  \"Michael Coughlin\",\"Richard McLaughlin\",\"Tony Lin\",\\\n",
    "                  \"Xavier Ke\",\"Franc Kalanderi\",\"Gaurav Garg\",\\\n",
    "                  \"Hunter Brown\",\"Joshua Grant\",\"Karin D'Eramo\"}"
   ]
  },
  {
   "cell_type": "code",
   "execution_count": 47,
   "metadata": {
    "ExecuteTime": {
     "end_time": "2022-03-23T16:35:17.130085Z",
     "start_time": "2022-03-23T16:35:17.114624Z"
    },
    "scrolled": true
   },
   "outputs": [],
   "source": [
    "df_after_filtered = df_qq_valid[(~df_qq_valid['CSR On Customer'].isin(not_wts_agents))\\\n",
    "                                &(~df_qq_valid['CSR On Policy'].isin(not_wts_agents))\\\n",
    "                               &(~df_qq_valid['Agent On Policy'].isin(not_wts_agents))\\\n",
    "                               &(~df_qq_valid['Producer'].isin(not_wts_agents))]"
   ]
  },
  {
   "cell_type": "code",
   "execution_count": 48,
   "metadata": {
    "ExecuteTime": {
     "end_time": "2022-03-23T16:35:17.706958Z",
     "start_time": "2022-03-23T16:35:17.687959Z"
    }
   },
   "outputs": [],
   "source": [
    "df_after_filtered_left = df_qq_valid[(df_qq_valid['CSR On Customer'].isin(not_wts_agents))\\\n",
    "                                |(df_qq_valid['CSR On Policy'].isin(not_wts_agents))\\\n",
    "                               |(df_qq_valid['Agent On Policy'].isin(not_wts_agents))\\\n",
    "                               |(df_qq_valid['Producer'].isin(not_wts_agents))]"
   ]
  },
  {
   "cell_type": "code",
   "execution_count": 49,
   "metadata": {
    "ExecuteTime": {
     "end_time": "2022-03-23T16:35:22.399058Z",
     "start_time": "2022-03-23T16:35:22.339951Z"
    }
   },
   "outputs": [],
   "source": [
    "df_after_filtered.to_csv('data/Output/qq_valid_filtered_0208.csv')"
   ]
  },
  {
   "cell_type": "code",
   "execution_count": 50,
   "metadata": {
    "ExecuteTime": {
     "end_time": "2022-03-23T16:35:22.538279Z",
     "start_time": "2022-03-23T16:35:22.498241Z"
    }
   },
   "outputs": [],
   "source": [
    "df_after_filtered_left.to_csv('data/Output/qq_not_waterstone_0208.csv')"
   ]
  },
  {
   "cell_type": "markdown",
   "metadata": {},
   "source": [
    "### Further Processing"
   ]
  },
  {
   "cell_type": "markdown",
   "metadata": {},
   "source": [
    "#### Customer Information Extraction"
   ]
  },
  {
   "cell_type": "code",
   "execution_count": 51,
   "metadata": {
    "ExecuteTime": {
     "end_time": "2022-03-23T16:35:27.186551Z",
     "start_time": "2022-03-23T16:35:27.167553Z"
    }
   },
   "outputs": [],
   "source": [
    "'''\n",
    "To get the customers'info from the dataframe processed above and filter out the records in the adagetaway based on custermer .\n",
    "Customer Info -> (First Name, Last Name, Customer Number) \n",
    "                    eg.('Jennifer', 'Wu', 'wsdc-03761')\n",
    "'''\n",
    "def get_customer_info_from_df(df, ada_set, not_waterstone_set = set()):\n",
    "    df_result = pd.DataFrame(columns= df.columns)\n",
    "    customers = set()\n",
    "    overlap_set = set()\n",
    "    \n",
    "    for index, row in df.iterrows():\n",
    "        first_name = row['Customer First Name'].capitalize() if isinstance(row['Customer First Name'], str) else ''\n",
    "        last_name = row['Customer Last Name'].capitalize() if isinstance(row['Customer Last Name'], str) else ''\n",
    "        email =  row['Customer Email'].lower() if isinstance(row['Customer Email'], str) else ''\n",
    "        cust_num =  row['Customer Number'].lower() if isinstance(row['Customer Number'], str) else ''\n",
    "        if (first_name, last_name, email) not in ada_set:\n",
    "            customer_info = (first_name, last_name, cust_num)\n",
    "            if customer_info in customers:\n",
    "                continue\n",
    "            if customer_info in not_waterstone_set and customer_info not in overlap_set:\n",
    "                print(customer_info)\n",
    "                overlap_set.add(customer_info)\n",
    "                continue\n",
    "            customers.add(customer_info)\n",
    "            df_result = df_result.append(df.loc[index],  ignore_index = True)\n",
    "            \n",
    "    return customers, df_result, overlap_set\n",
    "\n",
    "'''\n",
    "To get the policy's info from the dataframe and do the filtering.\n",
    "'''\n",
    "def get_policy_based_info_from_df(df, ada_set, not_waterstone_set = set()):\n",
    "    df_result = pd.DataFrame(columns= df.columns)\n",
    "    customers = set()\n",
    "    overlap_set = set()\n",
    "    \n",
    "    for index, row in df.iterrows():\n",
    "        first_name = row['Customer First Name'].capitalize() if isinstance(row['Customer First Name'], str) else ''\n",
    "        last_name = row['Customer Last Name'].capitalize() if isinstance(row['Customer Last Name'], str) else ''\n",
    "        email =  row['Customer Email'].lower() if isinstance(row['Customer Email'], str) else ''\n",
    "        policy_num =  row['Policy Number'].lower() if isinstance(row['Policy Number'], str) else ''\n",
    "        \n",
    "        if (first_name, last_name, email) not in ada_set:\n",
    "            customer_info = (first_name, last_name, cust_num)\n",
    "            if customer_info in not_waterstone_set and customer_info not in overlap_set:\n",
    "                print(customer_info)\n",
    "                overlap_set.add(customer_info)\n",
    "                continue\n",
    "            customers.add(customer_info)\n",
    "            df_result = df_result.append(df.loc[index],  ignore_index = True)\n",
    "            \n",
    "    return customers, df_result, overlap_set"
   ]
  },
  {
   "cell_type": "markdown",
   "metadata": {},
   "source": [
    "Get the customer info not in waterstone first."
   ]
  },
  {
   "cell_type": "code",
   "execution_count": 52,
   "metadata": {
    "ExecuteTime": {
     "end_time": "2022-03-23T16:35:46.356730Z",
     "start_time": "2022-03-23T16:35:30.215155Z"
    }
   },
   "outputs": [],
   "source": [
    "cust_set_not_in_waterstone, _, _ = get_customer_info_from_df(df_after_filtered_left, customers_ada_set)"
   ]
  },
  {
   "cell_type": "markdown",
   "metadata": {},
   "source": [
    "Then, get the customers in the waterstone"
   ]
  },
  {
   "cell_type": "code",
   "execution_count": 53,
   "metadata": {
    "ExecuteTime": {
     "end_time": "2022-03-23T16:35:54.590939Z",
     "start_time": "2022-03-23T16:35:46.358742Z"
    },
    "scrolled": true
   },
   "outputs": [
    {
     "name": "stdout",
     "output_type": "stream",
     "text": [
      "('Matthew', 'Dvorozniak', 'wsdc-00239')\n",
      "('Tara', 'Cummings', 'wsdc-03863')\n",
      "('Michael', 'Zangoglia', 'wsdc-03364')\n"
     ]
    }
   ],
   "source": [
    "cust_set_from_waterstone, df_result, overlap_set = get_customer_info_from_df(df_after_filtered, customers_ada_set, cust_set_not_in_waterstone)"
   ]
  },
  {
   "cell_type": "markdown",
   "metadata": {},
   "source": [
    "##### Compare to the overlap set"
   ]
  },
  {
   "cell_type": "code",
   "execution_count": 54,
   "metadata": {
    "ExecuteTime": {
     "end_time": "2022-03-23T16:38:53.664430Z",
     "start_time": "2022-03-23T16:38:25.971031Z"
    }
   },
   "outputs": [],
   "source": [
    "df_overlap = pd.DataFrame(columns= df_after_filtered.columns)\n",
    "df_final_result = pd.DataFrame(columns= df_after_filtered.columns)\n",
    "for index, row in df_after_filtered.iterrows():\n",
    "    first_name = row['Customer First Name'].capitalize() if isinstance(row['Customer First Name'], str) else ''\n",
    "    last_name = row['Customer Last Name'].capitalize() if isinstance(row['Customer Last Name'], str) else ''\n",
    "    email =  row['Customer Email'].lower() if isinstance(row['Customer Email'], str) else ''\n",
    "    cust_num =  row['Customer Number'].lower() if isinstance(row['Customer Number'], str) else ''\n",
    "    \n",
    "    customer_info = (first_name, last_name, cust_num)\n",
    "    if customer_info in overlap_set:\n",
    "        df_overlap = df_overlap.append(df_after_filtered.loc[index],  ignore_index = True)\n",
    "    else:\n",
    "        df_final_result = df_final_result.append(df_after_filtered.loc[index],  ignore_index = True)"
   ]
  },
  {
   "cell_type": "markdown",
   "metadata": {},
   "source": [
    "##### Filter out by State"
   ]
  },
  {
   "cell_type": "code",
   "execution_count": 59,
   "metadata": {
    "ExecuteTime": {
     "end_time": "2022-03-23T16:52:00.595397Z",
     "start_time": "2022-03-23T16:52:00.578375Z"
    }
   },
   "outputs": [],
   "source": [
    "df_final_result = df_final_result[(df_final_result['Customer State/Province'] == 'NJ') | (df_final_result['Customer State/Province'] == 'NY')]"
   ]
  },
  {
   "cell_type": "code",
   "execution_count": 60,
   "metadata": {
    "ExecuteTime": {
     "end_time": "2022-03-23T16:52:08.838879Z",
     "start_time": "2022-03-23T16:52:00.760233Z"
    }
   },
   "outputs": [],
   "source": [
    "_, final_result, _ = get_customer_info_from_df(df_final_result, customers_ada_set)"
   ]
  },
  {
   "cell_type": "code",
   "execution_count": 61,
   "metadata": {
    "ExecuteTime": {
     "end_time": "2022-03-23T16:52:08.870761Z",
     "start_time": "2022-03-23T16:52:08.840811Z"
    }
   },
   "outputs": [],
   "source": [
    "final_result.to_csv('data/final_result.csv')"
   ]
  },
  {
   "cell_type": "markdown",
   "metadata": {},
   "source": [
    "### Premium Calculation"
   ]
  },
  {
   "cell_type": "markdown",
   "metadata": {},
   "source": [
    "This part is to calculate the premium for Xavier to estimate."
   ]
  },
  {
   "cell_type": "code",
   "execution_count": 68,
   "metadata": {
    "ExecuteTime": {
     "end_time": "2022-03-23T16:55:07.720460Z",
     "start_time": "2022-03-23T16:55:07.701461Z"
    },
    "collapsed": true
   },
   "outputs": [
    {
     "data": {
      "text/html": [
       "<div>\n",
       "<style scoped>\n",
       "    .dataframe tbody tr th:only-of-type {\n",
       "        vertical-align: middle;\n",
       "    }\n",
       "\n",
       "    .dataframe tbody tr th {\n",
       "        vertical-align: top;\n",
       "    }\n",
       "\n",
       "    .dataframe thead th {\n",
       "        text-align: right;\n",
       "    }\n",
       "</style>\n",
       "<table border=\"1\" class=\"dataframe\">\n",
       "  <thead>\n",
       "    <tr style=\"text-align: right;\">\n",
       "      <th></th>\n",
       "      <th>Customer First Name</th>\n",
       "      <th>Customer Last Name</th>\n",
       "      <th>Customer Street Address</th>\n",
       "      <th>Customer State/Province</th>\n",
       "      <th>Customer Zip Code</th>\n",
       "      <th>Customer Email</th>\n",
       "      <th>Customer Phone Number</th>\n",
       "      <th>Customer Number</th>\n",
       "      <th>Policy Number</th>\n",
       "      <th>Policy Premium</th>\n",
       "      <th>Policy Status</th>\n",
       "      <th>CSR On Customer</th>\n",
       "      <th>Agent On Policy</th>\n",
       "      <th>CSR On Policy</th>\n",
       "      <th>Producer</th>\n",
       "      <th>Effective Date</th>\n",
       "      <th>MGA/Broker</th>\n",
       "    </tr>\n",
       "  </thead>\n",
       "  <tbody>\n",
       "    <tr>\n",
       "      <th>0</th>\n",
       "      <td>Tony</td>\n",
       "      <td>Gross</td>\n",
       "      <td>P.O. Box 187</td>\n",
       "      <td>NJ</td>\n",
       "      <td>07849</td>\n",
       "      <td>rmgross@verizon.net</td>\n",
       "      <td>(973) 584-6311</td>\n",
       "      <td>WSDC-03825</td>\n",
       "      <td>KKO0000008839000</td>\n",
       "      <td>1399.0</td>\n",
       "      <td>Cancelled</td>\n",
       "      <td>Linda Sabino</td>\n",
       "      <td>Linda Sabino</td>\n",
       "      <td>Linda Sabino</td>\n",
       "      <td>Linda Sabino</td>\n",
       "      <td>2022-06-26 00:00:00</td>\n",
       "      <td>K&amp;K Insurance Group, Inc.</td>\n",
       "    </tr>\n",
       "    <tr>\n",
       "      <th>1</th>\n",
       "      <td>Tony</td>\n",
       "      <td>Gross</td>\n",
       "      <td>P.O. Box 187</td>\n",
       "      <td>NJ</td>\n",
       "      <td>07849</td>\n",
       "      <td>tonygross1932@gmail.com</td>\n",
       "      <td>(973) 584-6311</td>\n",
       "      <td>WSDC-03825</td>\n",
       "      <td>KKO0000008839000</td>\n",
       "      <td>1399.0</td>\n",
       "      <td>Cancelled</td>\n",
       "      <td>Linda Sabino</td>\n",
       "      <td>Linda Sabino</td>\n",
       "      <td>Linda Sabino</td>\n",
       "      <td>Linda Sabino</td>\n",
       "      <td>2022-06-26 00:00:00</td>\n",
       "      <td>K&amp;K Insurance Group, Inc.</td>\n",
       "    </tr>\n",
       "    <tr>\n",
       "      <th>2</th>\n",
       "      <td>Ashley</td>\n",
       "      <td>Zapotosky</td>\n",
       "      <td>122 Maple Ave.</td>\n",
       "      <td>NJ</td>\n",
       "      <td>07057</td>\n",
       "      <td>ashzap12@gmail.com</td>\n",
       "      <td>(201) 446-1709</td>\n",
       "      <td>WSDC-03663</td>\n",
       "      <td>6BRPG0000007214500</td>\n",
       "      <td>0.0</td>\n",
       "      <td>Pending</td>\n",
       "      <td>NaN</td>\n",
       "      <td>Linda Sabino</td>\n",
       "      <td>Linda Sabino</td>\n",
       "      <td>Linda Sabino</td>\n",
       "      <td>2021-12-27 00:00:00</td>\n",
       "      <td>K&amp;K Insurance Group, Inc.</td>\n",
       "    </tr>\n",
       "    <tr>\n",
       "      <th>3</th>\n",
       "      <td>Ashley</td>\n",
       "      <td>Zapotosky</td>\n",
       "      <td>122 Maple Ave.</td>\n",
       "      <td>NJ</td>\n",
       "      <td>07057</td>\n",
       "      <td>info@fitnessinsurance-kk.com</td>\n",
       "      <td>(201) 446-1709</td>\n",
       "      <td>WSDC-03663</td>\n",
       "      <td>6BRPG0000007214500</td>\n",
       "      <td>0.0</td>\n",
       "      <td>Pending</td>\n",
       "      <td>NaN</td>\n",
       "      <td>Linda Sabino</td>\n",
       "      <td>Linda Sabino</td>\n",
       "      <td>Linda Sabino</td>\n",
       "      <td>2021-12-27 00:00:00</td>\n",
       "      <td>K&amp;K Insurance Group, Inc.</td>\n",
       "    </tr>\n",
       "    <tr>\n",
       "      <th>4</th>\n",
       "      <td>Ashley</td>\n",
       "      <td>Zapotosky</td>\n",
       "      <td>122 Maple Ave.</td>\n",
       "      <td>NJ</td>\n",
       "      <td>07057</td>\n",
       "      <td>tiffany.a.haugh@kandkinsurance.com</td>\n",
       "      <td>(201) 446-1709</td>\n",
       "      <td>WSDC-03663</td>\n",
       "      <td>6BRPG0000007214500</td>\n",
       "      <td>0.0</td>\n",
       "      <td>Pending</td>\n",
       "      <td>NaN</td>\n",
       "      <td>Linda Sabino</td>\n",
       "      <td>Linda Sabino</td>\n",
       "      <td>Linda Sabino</td>\n",
       "      <td>2021-12-27 00:00:00</td>\n",
       "      <td>K&amp;K Insurance Group, Inc.</td>\n",
       "    </tr>\n",
       "  </tbody>\n",
       "</table>\n",
       "</div>"
      ],
      "text/plain": [
       "  Customer First Name Customer Last Name Customer Street Address  \\\n",
       "0                Tony              Gross            P.O. Box 187   \n",
       "1                Tony              Gross            P.O. Box 187   \n",
       "2              Ashley          Zapotosky          122 Maple Ave.   \n",
       "3              Ashley          Zapotosky          122 Maple Ave.   \n",
       "4              Ashley          Zapotosky          122 Maple Ave.   \n",
       "\n",
       "  Customer State/Province Customer Zip Code  \\\n",
       "0                      NJ             07849   \n",
       "1                      NJ             07849   \n",
       "2                      NJ             07057   \n",
       "3                      NJ             07057   \n",
       "4                      NJ             07057   \n",
       "\n",
       "                       Customer Email Customer Phone Number Customer Number  \\\n",
       "0                 rmgross@verizon.net        (973) 584-6311      WSDC-03825   \n",
       "1             tonygross1932@gmail.com        (973) 584-6311      WSDC-03825   \n",
       "2                  ashzap12@gmail.com        (201) 446-1709      WSDC-03663   \n",
       "3        info@fitnessinsurance-kk.com        (201) 446-1709      WSDC-03663   \n",
       "4  tiffany.a.haugh@kandkinsurance.com        (201) 446-1709      WSDC-03663   \n",
       "\n",
       "        Policy Number  Policy Premium Policy Status CSR On Customer  \\\n",
       "0    KKO0000008839000          1399.0     Cancelled    Linda Sabino   \n",
       "1    KKO0000008839000          1399.0     Cancelled    Linda Sabino   \n",
       "2  6BRPG0000007214500             0.0       Pending             NaN   \n",
       "3  6BRPG0000007214500             0.0       Pending             NaN   \n",
       "4  6BRPG0000007214500             0.0       Pending             NaN   \n",
       "\n",
       "  Agent On Policy CSR On Policy      Producer       Effective Date  \\\n",
       "0    Linda Sabino  Linda Sabino  Linda Sabino  2022-06-26 00:00:00   \n",
       "1    Linda Sabino  Linda Sabino  Linda Sabino  2022-06-26 00:00:00   \n",
       "2    Linda Sabino  Linda Sabino  Linda Sabino  2021-12-27 00:00:00   \n",
       "3    Linda Sabino  Linda Sabino  Linda Sabino  2021-12-27 00:00:00   \n",
       "4    Linda Sabino  Linda Sabino  Linda Sabino  2021-12-27 00:00:00   \n",
       "\n",
       "                  MGA/Broker  \n",
       "0  K&K Insurance Group, Inc.  \n",
       "1  K&K Insurance Group, Inc.  \n",
       "2  K&K Insurance Group, Inc.  \n",
       "3  K&K Insurance Group, Inc.  \n",
       "4  K&K Insurance Group, Inc.  "
      ]
     },
     "execution_count": 68,
     "metadata": {},
     "output_type": "execute_result"
    }
   ],
   "source": [
    "df_policies_of_waterstone.head()"
   ]
  },
  {
   "cell_type": "code",
   "execution_count": 62,
   "metadata": {
    "ExecuteTime": {
     "end_time": "2022-03-23T16:54:45.397090Z",
     "start_time": "2022-03-23T16:54:18.386612Z"
    }
   },
   "outputs": [],
   "source": [
    "_, df_policies_of_waterstone, _ = get_policy_based_info_from_df(df_after_filtered, customers_ada_set)"
   ]
  },
  {
   "cell_type": "code",
   "execution_count": 63,
   "metadata": {
    "ExecuteTime": {
     "end_time": "2022-03-23T16:54:46.679605Z",
     "start_time": "2022-03-23T16:54:46.622431Z"
    }
   },
   "outputs": [],
   "source": [
    "df_policies_of_waterstone.to_csv('data/waterstone_policies_0208.csv')"
   ]
  },
  {
   "cell_type": "code",
   "execution_count": 64,
   "metadata": {
    "ExecuteTime": {
     "end_time": "2022-03-23T16:54:47.181070Z",
     "start_time": "2022-03-23T16:54:47.085709Z"
    }
   },
   "outputs": [],
   "source": [
    "# change Effective Date from string Type to datetime Type\n",
    "df_policies_of_waterstone['Effective Date'] = df_policies_of_waterstone['Effective Date'].apply(lambda x: datetime. strptime(x, '%m/%d/%Y'))\n"
   ]
  },
  {
   "cell_type": "code",
   "execution_count": 65,
   "metadata": {
    "ExecuteTime": {
     "end_time": "2022-03-23T16:54:47.385872Z",
     "start_time": "2022-03-23T16:54:47.354874Z"
    }
   },
   "outputs": [],
   "source": [
    "# change Premium from string Type to Float Type \n",
    "df_policies_of_waterstone['Policy Premium'] = df_policies_of_waterstone['Policy Premium'].apply(lambda x: locale.atof(x.strip(\"$\")))"
   ]
  },
  {
   "cell_type": "code",
   "execution_count": 73,
   "metadata": {
    "ExecuteTime": {
     "end_time": "2022-03-23T16:56:23.577795Z",
     "start_time": "2022-03-23T16:56:23.557753Z"
    }
   },
   "outputs": [],
   "source": [
    "# filter by date in 2021\n",
    "waterstone_policies_2021 = df_policies_of_waterstone.loc[(df_policies_of_waterstone['Effective Date'] >= datetime. strptime('12/31/2020', '%m/%d/%Y'))\n",
    "                     & (df_policies_of_waterstone['Effective Date'] < datetime. strptime('01/01/2022', '%m/%d/%Y'))]\n",
    "\n",
    "# filter by date in 2020\n",
    "waterstone_policies_2020 = df_policies_of_waterstone.loc[(df_policies_of_waterstone['Effective Date'] >= datetime. strptime('12/31/2019', '%m/%d/%Y'))\n",
    "                     & (df_policies_of_waterstone['Effective Date'] < datetime. strptime('01/01/2021', '%m/%d/%Y'))]\n",
    "\n"
   ]
  },
  {
   "cell_type": "code",
   "execution_count": 74,
   "metadata": {
    "ExecuteTime": {
     "end_time": "2022-03-23T16:56:25.106667Z",
     "start_time": "2022-03-23T16:56:25.099251Z"
    }
   },
   "outputs": [],
   "source": [
    "df_policies_of_waterstone = df_policies_of_waterstone[(df_policies_of_waterstone['CSR On Customer'] == 'Linda Sabino')\\\n",
    "                                |(df_policies_of_waterstone['CSR On Policy'] == 'Linda Sabino')\\\n",
    "                               |(df_policies_of_waterstone['Agent On Policy'] == 'Linda Sabino')\\\n",
    "                               |(df_policies_of_waterstone['Producer'] == 'Linda Sabino')]"
   ]
  },
  {
   "cell_type": "code",
   "execution_count": 75,
   "metadata": {
    "ExecuteTime": {
     "end_time": "2022-03-23T16:56:28.256123Z",
     "start_time": "2022-03-23T16:56:28.239023Z"
    },
    "collapsed": true
   },
   "outputs": [
    {
     "data": {
      "text/plain": [
       "Policy Status\n",
       "Active       3936905.99\n",
       "Cancelled     107872.30\n",
       "Expired         3810.00\n",
       "Pending            0.00\n",
       "Voided             0.00\n",
       "Name: Policy Premium, dtype: float64"
      ]
     },
     "execution_count": 75,
     "metadata": {},
     "output_type": "execute_result"
    }
   ],
   "source": [
    "waterstone_policies_2021.groupby(['Policy Status'])['Policy Premium'].sum()"
   ]
  },
  {
   "cell_type": "code",
   "execution_count": 76,
   "metadata": {
    "ExecuteTime": {
     "end_time": "2022-03-23T16:56:31.136143Z",
     "start_time": "2022-03-23T16:56:31.119109Z"
    },
    "collapsed": true
   },
   "outputs": [
    {
     "data": {
      "text/plain": [
       "Policy Status\n",
       "Active       2877732.06\n",
       "Cancelled      10558.52\n",
       "Expired      3332026.27\n",
       "Pending            0.00\n",
       "Voided             0.00\n",
       "Name: Policy Premium, dtype: float64"
      ]
     },
     "execution_count": 76,
     "metadata": {},
     "output_type": "execute_result"
    }
   ],
   "source": [
    "waterstone_policies_2020.groupby(['Policy Status'])['Policy Premium'].sum()"
   ]
  },
  {
   "cell_type": "code",
   "execution_count": 70,
   "metadata": {
    "ExecuteTime": {
     "end_time": "2021-10-27T20:56:53.169841Z",
     "start_time": "2021-10-27T20:56:53.143491Z"
    }
   },
   "outputs": [],
   "source": [
    "waterstone_policies_2021.to_csv('waterstone_policies_2021.csv')"
   ]
  },
  {
   "cell_type": "markdown",
   "metadata": {},
   "source": [
    "### Policy Based Marking"
   ]
  },
  {
   "cell_type": "markdown",
   "metadata": {},
   "source": [
    "#### Build policy dataframe"
   ]
  },
  {
   "cell_type": "code",
   "execution_count": 25,
   "metadata": {
    "ExecuteTime": {
     "end_time": "2021-11-15T22:55:09.541281Z",
     "start_time": "2021-11-15T22:55:09.501268Z"
    }
   },
   "outputs": [],
   "source": [
    "waterstone_processed_policy_records = pd.DataFrame(columns= ['Customer First Name', 'Customer Last Name', 'Customer Number', 'Policy Num', 'Policy Premium', 'Policy Status', 'Agent On Policy'])"
   ]
  },
  {
   "cell_type": "code",
   "execution_count": 33,
   "metadata": {
    "ExecuteTime": {
     "end_time": "2021-11-15T23:00:25.352678Z",
     "start_time": "2021-11-15T23:00:25.347679Z"
    }
   },
   "outputs": [],
   "source": [
    "waterstone_processed_policy_records.to_csv('1115_2021/processed_policy_records_11152021.csv')"
   ]
  },
  {
   "cell_type": "code",
   "execution_count": 36,
   "metadata": {
    "ExecuteTime": {
     "end_time": "2021-11-19T16:58:22.958508Z",
     "start_time": "2021-11-19T16:58:22.939510Z"
    }
   },
   "outputs": [],
   "source": [
    "processed_policy_df = pd.read_csv('1115_2021/processed_policy_records.csv')"
   ]
  },
  {
   "cell_type": "code",
   "execution_count": 43,
   "metadata": {
    "ExecuteTime": {
     "end_time": "2021-11-19T17:01:22.665925Z",
     "start_time": "2021-11-19T17:01:22.654790Z"
    }
   },
   "outputs": [],
   "source": [
    "processed_policy_df = processed_policy_df.dropna(subset=['Customer First Name', 'Customer Last Name']).reset_index(drop = True)"
   ]
  },
  {
   "cell_type": "code",
   "execution_count": 44,
   "metadata": {
    "ExecuteTime": {
     "end_time": "2021-11-19T17:01:58.306190Z",
     "start_time": "2021-11-19T17:01:58.270192Z"
    }
   },
   "outputs": [],
   "source": [
    "processed_policy_df.to_csv('1115_2021/processed_policy_records.csv')"
   ]
  }
 ],
 "metadata": {
  "kernelspec": {
   "display_name": "Python 3 (ipykernel)",
   "language": "python",
   "name": "python3"
  },
  "language_info": {
   "codemirror_mode": {
    "name": "ipython",
    "version": 3
   },
   "file_extension": ".py",
   "mimetype": "text/x-python",
   "name": "python",
   "nbconvert_exporter": "python",
   "pygments_lexer": "ipython3",
   "version": "3.9.7"
  },
  "toc": {
   "base_numbering": 1,
   "nav_menu": {},
   "number_sections": true,
   "sideBar": true,
   "skip_h1_title": false,
   "title_cell": "Table of Contents",
   "title_sidebar": "Contents",
   "toc_cell": false,
   "toc_position": {},
   "toc_section_display": true,
   "toc_window_display": false
  }
 },
 "nbformat": 4,
 "nbformat_minor": 1
}